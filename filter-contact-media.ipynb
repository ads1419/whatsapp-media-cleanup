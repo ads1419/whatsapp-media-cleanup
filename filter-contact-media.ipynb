{
 "cells": [
  {
   "cell_type": "markdown",
   "metadata": {},
   "source": [
    "## Extract Whatsapp Media from Specific Contact"
   ]
  },
  {
   "cell_type": "markdown",
   "metadata": {},
   "source": [
    "This notebook looks through your cluttered Whatsapp Media and extracts images/videos from certain contacts. Super handy if your Media folder is cluttered with media from hundreds of Whatsapp Groups. Steps to follow: \n",
    "* Open your chat window, go to Options > More > Export Chat With Media (you only need the text file, not the media itself)\n",
    "* Copy your Whatsapp Media directories (Images and Video) to a working directory (zip them on your phone for wildly quicker transfer)\n",
    "* "
   ]
  },
  {
   "cell_type": "code",
   "execution_count": 26,
   "metadata": {},
   "outputs": [],
   "source": [
    "import os\n",
    "import re\n",
    "import shutil"
   ]
  },
  {
   "cell_type": "code",
   "execution_count": 59,
   "metadata": {},
   "outputs": [],
   "source": [
    "IMAGES = \"WhatsApp Images\" # stores all WhatsApp Images, with the sent, received combined into one folder\n",
    "VIDEOS = \"WhatsApp Video\" # stores all WhatsApp Videos, with the sent, received combined into one folder\n",
    "D_IMAGES = \"\" # destination for contact images\n",
    "D_VIDEOS = \"\" # destination for contact videos\n",
    "SOURCE_CHAT = \"Promita/chat_media.txt\" # source chat file, exported from WhatsApp with media turned on"
   ]
  },
  {
   "cell_type": "code",
   "execution_count": 55,
   "metadata": {},
   "outputs": [],
   "source": [
    "with open(SOURCE_CHAT, \"r\", encoding=\"utf8\") as f:\n",
    "    contents = f.read()"
   ]
  },
  {
   "cell_type": "code",
   "execution_count": 33,
   "metadata": {},
   "outputs": [],
   "source": [
    "pattern = re.compile(r'(IMG|VID).*\\.(jpg|mp4)')"
   ]
  },
  {
   "cell_type": "code",
   "execution_count": 34,
   "metadata": {},
   "outputs": [],
   "source": [
    "matches = pattern.finditer(contents)\n",
    "files = []\n",
    "for m in matches:\n",
    "    files.append(m.group())"
   ]
  },
  {
   "cell_type": "code",
   "execution_count": 42,
   "metadata": {},
   "outputs": [],
   "source": [
    "for f in files:\n",
    "    if f[:3] == \"VID\":\n",
    "        if os.path.exists(os.path.join(VIDEOS, f)):\n",
    "            shutil.copy(os.path.join(VIDEOS, f), os.path.join(PVIDS, f))\n",
    "    else:\n",
    "        if os.path.exists(os.path.join(IMAGES, f)):\n",
    "            shutil.copy(os.path.join(IMAGES, f), os.path.join(PIMGS, f))"
   ]
  }
 ],
 "metadata": {
  "kernelspec": {
   "display_name": "Python [conda env:fastaiv1] *",
   "language": "python",
   "name": "conda-env-fastaiv1-py"
  },
  "language_info": {
   "codemirror_mode": {
    "name": "ipython",
    "version": 3
   },
   "file_extension": ".py",
   "mimetype": "text/x-python",
   "name": "python",
   "nbconvert_exporter": "python",
   "pygments_lexer": "ipython3",
   "version": "3.6.9"
  }
 },
 "nbformat": 4,
 "nbformat_minor": 2
}
